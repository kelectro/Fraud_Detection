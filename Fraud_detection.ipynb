{
 "cells": [
  {
   "cell_type": "code",
   "execution_count": 2,
   "metadata": {},
   "outputs": [],
   "source": [
    "import numpy as np\n",
    "import sklearn as sk \n",
    "import pandas as pd\n",
    "import matplotlib.pyplot as plt\n",
    "from sklearn.preprocessing import scale #nomrmalization lib/ensures all values are in the same scale +accurancy \n",
    "import random \n"
   ]
  },
  {
   "cell_type": "code",
   "execution_count": 3,
   "metadata": {},
   "outputs": [
    {
     "data": {
      "text/html": [
       "<div>\n",
       "<style scoped>\n",
       "    .dataframe tbody tr th:only-of-type {\n",
       "        vertical-align: middle;\n",
       "    }\n",
       "\n",
       "    .dataframe tbody tr th {\n",
       "        vertical-align: top;\n",
       "    }\n",
       "\n",
       "    .dataframe thead th {\n",
       "        text-align: right;\n",
       "    }\n",
       "</style>\n",
       "<table border=\"1\" class=\"dataframe\">\n",
       "  <thead>\n",
       "    <tr style=\"text-align: right;\">\n",
       "      <th></th>\n",
       "      <th>Time</th>\n",
       "      <th>V1</th>\n",
       "      <th>V2</th>\n",
       "      <th>V3</th>\n",
       "      <th>V4</th>\n",
       "      <th>V5</th>\n",
       "      <th>V6</th>\n",
       "      <th>V7</th>\n",
       "      <th>V8</th>\n",
       "      <th>V9</th>\n",
       "      <th>...</th>\n",
       "      <th>V21</th>\n",
       "      <th>V22</th>\n",
       "      <th>V23</th>\n",
       "      <th>V24</th>\n",
       "      <th>V25</th>\n",
       "      <th>V26</th>\n",
       "      <th>V27</th>\n",
       "      <th>V28</th>\n",
       "      <th>Amount</th>\n",
       "      <th>Class</th>\n",
       "    </tr>\n",
       "  </thead>\n",
       "  <tbody>\n",
       "    <tr>\n",
       "      <th>0</th>\n",
       "      <td>38609.0</td>\n",
       "      <td>-1.386475</td>\n",
       "      <td>-0.399955</td>\n",
       "      <td>1.928950</td>\n",
       "      <td>0.027095</td>\n",
       "      <td>0.820498</td>\n",
       "      <td>-1.248363</td>\n",
       "      <td>0.094442</td>\n",
       "      <td>0.075116</td>\n",
       "      <td>0.049636</td>\n",
       "      <td>...</td>\n",
       "      <td>-0.110036</td>\n",
       "      <td>-0.612836</td>\n",
       "      <td>0.154794</td>\n",
       "      <td>0.388647</td>\n",
       "      <td>0.012612</td>\n",
       "      <td>0.026040</td>\n",
       "      <td>0.001266</td>\n",
       "      <td>0.125637</td>\n",
       "      <td>39.95</td>\n",
       "      <td>0</td>\n",
       "    </tr>\n",
       "    <tr>\n",
       "      <th>1</th>\n",
       "      <td>68180.0</td>\n",
       "      <td>-0.509222</td>\n",
       "      <td>0.827473</td>\n",
       "      <td>1.523591</td>\n",
       "      <td>-0.180230</td>\n",
       "      <td>0.043173</td>\n",
       "      <td>-0.137487</td>\n",
       "      <td>0.428838</td>\n",
       "      <td>0.302291</td>\n",
       "      <td>-0.437522</td>\n",
       "      <td>...</td>\n",
       "      <td>-0.163521</td>\n",
       "      <td>-0.488631</td>\n",
       "      <td>0.019761</td>\n",
       "      <td>-0.041720</td>\n",
       "      <td>-0.344885</td>\n",
       "      <td>0.088420</td>\n",
       "      <td>0.267258</td>\n",
       "      <td>0.104574</td>\n",
       "      <td>5.34</td>\n",
       "      <td>0</td>\n",
       "    </tr>\n",
       "    <tr>\n",
       "      <th>2</th>\n",
       "      <td>130719.0</td>\n",
       "      <td>2.050541</td>\n",
       "      <td>-0.364329</td>\n",
       "      <td>-2.542955</td>\n",
       "      <td>-0.729276</td>\n",
       "      <td>2.388357</td>\n",
       "      <td>3.318051</td>\n",
       "      <td>-0.479005</td>\n",
       "      <td>0.791533</td>\n",
       "      <td>0.403362</td>\n",
       "      <td>...</td>\n",
       "      <td>-0.293302</td>\n",
       "      <td>-0.834855</td>\n",
       "      <td>0.381652</td>\n",
       "      <td>0.698185</td>\n",
       "      <td>-0.264835</td>\n",
       "      <td>0.219264</td>\n",
       "      <td>-0.052150</td>\n",
       "      <td>-0.066923</td>\n",
       "      <td>0.99</td>\n",
       "      <td>0</td>\n",
       "    </tr>\n",
       "    <tr>\n",
       "      <th>3</th>\n",
       "      <td>162904.0</td>\n",
       "      <td>-0.403281</td>\n",
       "      <td>0.712978</td>\n",
       "      <td>1.241986</td>\n",
       "      <td>-0.768586</td>\n",
       "      <td>0.396750</td>\n",
       "      <td>1.253678</td>\n",
       "      <td>-0.336713</td>\n",
       "      <td>-0.428081</td>\n",
       "      <td>0.316635</td>\n",
       "      <td>...</td>\n",
       "      <td>0.953022</td>\n",
       "      <td>0.437784</td>\n",
       "      <td>-0.086852</td>\n",
       "      <td>-0.190511</td>\n",
       "      <td>-0.650369</td>\n",
       "      <td>-0.401489</td>\n",
       "      <td>0.292786</td>\n",
       "      <td>0.207524</td>\n",
       "      <td>8.96</td>\n",
       "      <td>0</td>\n",
       "    </tr>\n",
       "    <tr>\n",
       "      <th>4</th>\n",
       "      <td>96188.0</td>\n",
       "      <td>2.090140</td>\n",
       "      <td>-0.287030</td>\n",
       "      <td>-1.538081</td>\n",
       "      <td>0.033354</td>\n",
       "      <td>0.566603</td>\n",
       "      <td>0.343100</td>\n",
       "      <td>-0.295259</td>\n",
       "      <td>-0.025139</td>\n",
       "      <td>2.331127</td>\n",
       "      <td>...</td>\n",
       "      <td>-0.102266</td>\n",
       "      <td>0.181281</td>\n",
       "      <td>-0.057100</td>\n",
       "      <td>-0.367538</td>\n",
       "      <td>0.287409</td>\n",
       "      <td>0.170958</td>\n",
       "      <td>-0.067599</td>\n",
       "      <td>-0.083926</td>\n",
       "      <td>6.50</td>\n",
       "      <td>0</td>\n",
       "    </tr>\n",
       "  </tbody>\n",
       "</table>\n",
       "<p>5 rows × 31 columns</p>\n",
       "</div>"
      ],
      "text/plain": [
       "       Time        V1        V2        V3        V4        V5        V6  \\\n",
       "0   38609.0 -1.386475 -0.399955  1.928950  0.027095  0.820498 -1.248363   \n",
       "1   68180.0 -0.509222  0.827473  1.523591 -0.180230  0.043173 -0.137487   \n",
       "2  130719.0  2.050541 -0.364329 -2.542955 -0.729276  2.388357  3.318051   \n",
       "3  162904.0 -0.403281  0.712978  1.241986 -0.768586  0.396750  1.253678   \n",
       "4   96188.0  2.090140 -0.287030 -1.538081  0.033354  0.566603  0.343100   \n",
       "\n",
       "         V7        V8        V9  ...       V21       V22       V23       V24  \\\n",
       "0  0.094442  0.075116  0.049636  ... -0.110036 -0.612836  0.154794  0.388647   \n",
       "1  0.428838  0.302291 -0.437522  ... -0.163521 -0.488631  0.019761 -0.041720   \n",
       "2 -0.479005  0.791533  0.403362  ... -0.293302 -0.834855  0.381652  0.698185   \n",
       "3 -0.336713 -0.428081  0.316635  ...  0.953022  0.437784 -0.086852 -0.190511   \n",
       "4 -0.295259 -0.025139  2.331127  ... -0.102266  0.181281 -0.057100 -0.367538   \n",
       "\n",
       "        V25       V26       V27       V28  Amount  Class  \n",
       "0  0.012612  0.026040  0.001266  0.125637   39.95      0  \n",
       "1 -0.344885  0.088420  0.267258  0.104574    5.34      0  \n",
       "2 -0.264835  0.219264 -0.052150 -0.066923    0.99      0  \n",
       "3 -0.650369 -0.401489  0.292786  0.207524    8.96      0  \n",
       "4  0.287409  0.170958 -0.067599 -0.083926    6.50      0  \n",
       "\n",
       "[5 rows x 31 columns]"
      ]
     },
     "execution_count": 3,
     "metadata": {},
     "output_type": "execute_result"
    }
   ],
   "source": [
    "df = pd.read_csv('creditcard.csv', low_memory=False)\n",
    "df = df.sample(frac=1).reset_index(drop=True)\n",
    "df.head()"
   ]
  },
  {
   "cell_type": "code",
   "execution_count": 4,
   "metadata": {},
   "outputs": [
    {
     "name": "stdout",
     "output_type": "stream",
     "text": [
      "492\n",
      "284315\n"
     ]
    }
   ],
   "source": [
    "fraud=df.loc[df['Class']==1]\n",
    "normal=df.loc[df['Class']==0]\n",
    "print(len(fraud))\n",
    "print(len(normal))"
   ]
  },
  {
   "cell_type": "code",
   "execution_count": 5,
   "metadata": {},
   "outputs": [
    {
     "data": {
      "image/png": "[encoded data removed]",
      "text/plain": [
       "<Figure size 432x288 with 1 Axes>"
      ]
     },
     "metadata": {
      "needs_background": "light"
     },
     "output_type": "display_data"
    }
   ],
   "source": [
    "ax=fraud.plot.scatter(x='Amount',y='Class',color='Red',label='Fraud')\n",
    "normal.plot.scatter(x='Amount', y='Class',color='Blue',label='Normal',ax=ax)\n",
    "plt.show()"
   ]
  },
  {
   "cell_type": "code",
   "execution_count": null,
   "metadata": {},
   "outputs": [],
   "source": [
    "#Machine Learning\n",
    "from sklearn import linear_model\n",
    "from sklearn.model_selection import train_test_split\n",
    "import seaborn as sns\n"
   ]
  },
  {
   "cell_type": "code",
   "execution_count": null,
   "metadata": {},
   "outputs": [],
   "source": [
    "x= df.iloc[:,:-1]\n",
    "y= df['Class']\n",
    "# print(x.head())\n",
    "# print(y.head())\n"
   ]
  },
  {
   "cell_type": "code",
   "execution_count": 27,
   "metadata": {},
   "outputs": [
    {
     "name": "stderr",
     "output_type": "stream",
     "text": [
      "/home/konstantinos/.local/lib/python3.5/site-packages/sklearn/linear_model/logistic.py:432: FutureWarning: Default solver will be changed to 'lbfgs' in 0.22. Specify a solver to silence this warning.\n",
      "  FutureWarning)\n",
      "/home/konstantinos/.local/lib/python3.5/site-packages/sklearn/linear_model/logistic.py:432: FutureWarning: Default solver will be changed to 'lbfgs' in 0.22. Specify a solver to silence this warning.\n",
      "  FutureWarning)\n",
      "/home/konstantinos/.local/lib/python3.5/site-packages/sklearn/linear_model/logistic.py:432: FutureWarning: Default solver will be changed to 'lbfgs' in 0.22. Specify a solver to silence this warning.\n",
      "  FutureWarning)\n",
      "/home/konstantinos/.local/lib/python3.5/site-packages/sklearn/linear_model/logistic.py:432: FutureWarning: Default solver will be changed to 'lbfgs' in 0.22. Specify a solver to silence this warning.\n",
      "  FutureWarning)\n",
      "/home/konstantinos/.local/lib/python3.5/site-packages/sklearn/linear_model/logistic.py:432: FutureWarning: Default solver will be changed to 'lbfgs' in 0.22. Specify a solver to silence this warning.\n",
      "  FutureWarning)\n",
      "/home/konstantinos/.local/lib/python3.5/site-packages/sklearn/linear_model/logistic.py:432: FutureWarning: Default solver will be changed to 'lbfgs' in 0.22. Specify a solver to silence this warning.\n",
      "  FutureWarning)\n",
      "/home/konstantinos/.local/lib/python3.5/site-packages/sklearn/linear_model/logistic.py:432: FutureWarning: Default solver will be changed to 'lbfgs' in 0.22. Specify a solver to silence this warning.\n",
      "  FutureWarning)\n",
      "/home/konstantinos/.local/lib/python3.5/site-packages/sklearn/linear_model/logistic.py:432: FutureWarning: Default solver will be changed to 'lbfgs' in 0.22. Specify a solver to silence this warning.\n",
      "  FutureWarning)\n"
     ]
    }
   ],
   "source": [
    "log=[]\n",
    "lin=[]\n",
    "a=[0.15,0.20,0.25,0.30,0.35,0.4,0.45,0.5]\n",
    "for k in a:  \n",
    "    x_train, x_test,y_train,y_test=train_test_split(x,y, test_size=k)   \n",
    "    logistic=linear_model.LogisticRegression(C=1e5)\n",
    "    logistic.fit(x_train,y_train ) \n",
    "#     print('Score: ',logistic.score(x_test,y_test))\n",
    "    log.append(logistic.score(x_test,y_test))\n",
    "    \n",
    "    linear=linear_model.LinearRegression()\n",
    "    linear.fit(x_train,y_train)\n",
    "    lin.append(linear.score(x_test,y_test))\n",
    "#     print('Linear Score',linear.score(x_test,y_test))\n",
    "# sns.lmplot(x='Kval', y='Score', data=logistic.score(x_test,y_test))"
   ]
  },
  {
   "cell_type": "code",
   "execution_count": 26,
   "metadata": {},
   "outputs": [
    {
     "name": "stdout",
     "output_type": "stream",
     "text": [
      "[0.9990168999578671, 0.9990871107053826, 0.9989326142524086, 0.9990637032875719, 0.9990168835207608, 0.9988413226477533, 0.9989544645922412, 0.9989887924496503]\n",
      "[0.5203369139667264, 0.5126256677739012, 0.5208440284095546, 0.5105578068441157, 0.5499132101700026, 0.524969677930475, 0.5261690270825579, 0.5256123187302765]\n",
      "0.5\n"
     ]
    }
   ],
   "source": [
    "print(log)\n",
    "print(lin)\n",
    "print(a)"
   ]
  },
  {
   "cell_type": "code",
   "execution_count": 30,
   "metadata": {},
   "outputs": [
    {
     "data": {
      "image/png": "[encoded data removed]",
      "text/plain": [
       "<Figure size 432x288 with 1 Axes>"
      ]
     },
     "metadata": {
      "needs_background": "light"
     },
     "output_type": "display_data"
    }
   ],
   "source": [
    "plt.plot(a,log, label='logistic regression')\n",
    "plt.plot(a,lin, label='linear regression')\n",
    "plt.xlabel('x-axis')\n",
    "plt.ylabel('y-axid')\n",
    "plt.legend()\n",
    "plt.show()"
   ]
  },
  {
   "cell_type": "code",
   "execution_count": null,
   "metadata": {},
   "outputs": [],
   "source": []
  }
 ],
 "metadata": {
  "kernelspec": {
   "display_name": "Python 3",
   "language": "python",
   "name": "python3"
  },
  "language_info": {
   "codemirror_mode": {
    "name": "ipython",
    "version": 3
   },
   "file_extension": ".py",
   "mimetype": "text/x-python",
   "name": "python",
   "nbconvert_exporter": "python",
   "pygments_lexer": "ipython3",
   "version": "3.5.2"
  }
 },
 "nbformat": 4,
 "nbformat_minor": 2
}
